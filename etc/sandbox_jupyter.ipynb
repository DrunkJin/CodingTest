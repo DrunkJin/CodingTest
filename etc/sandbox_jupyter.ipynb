{
 "cells": [
  {
   "cell_type": "code",
   "execution_count": 3,
   "id": "67d98200",
   "metadata": {},
   "outputs": [],
   "source": [
    "x = [2,3,4,4,7,6,3,9,9,6,5,8,6,4]\n",
    "y =[5,9,5,1,3,1,3,3,8,7,10,9,9,8]\n",
    "\n",
    "y_spot = []\n",
    "for i in set(y):\n",
    "    if y.count(i) > 1:\n",
    "        y_spot.append(i)\n",
    "\n",
    "y_index = []\n",
    "for i,j in enumerate(y):\n",
    "    if j in y_spot:\n",
    "        y_index.append(i)"
   ]
  },
  {
   "cell_type": "code",
   "execution_count": 4,
   "id": "4a72bc2c",
   "metadata": {},
   "outputs": [
    {
     "data": {
      "text/plain": [
       "[0, 1, 2, 3, 4, 5, 6, 7, 8, 11, 12, 13]"
      ]
     },
     "execution_count": 4,
     "metadata": {},
     "output_type": "execute_result"
    }
   ],
   "source": [
    "y_index"
   ]
  },
  {
   "cell_type": "code",
   "execution_count": 15,
   "id": "2cb6228c",
   "metadata": {},
   "outputs": [
    {
     "data": {
      "text/plain": [
       "[1, 3, 5, 8, 9]"
      ]
     },
     "execution_count": 15,
     "metadata": {},
     "output_type": "execute_result"
    }
   ],
   "source": []
  },
  {
   "cell_type": "code",
   "execution_count": 11,
   "id": "65b0cc34",
   "metadata": {},
   "outputs": [],
   "source": [
    "x_value = []\n",
    "y_value = []\n",
    "for i in y_index:\n",
    "    x_value.append(x[i])\n",
    "    y_value.append(y[i])"
   ]
  },
  {
   "cell_type": "code",
   "execution_count": 17,
   "id": "f443638a",
   "metadata": {},
   "outputs": [
    {
     "data": {
      "text/plain": [
       "[2, 3, 4, 4, 7, 6, 3, 9, 9, 8, 6, 4]"
      ]
     },
     "execution_count": 17,
     "metadata": {},
     "output_type": "execute_result"
    }
   ],
   "source": [
    "x_value"
   ]
  },
  {
   "cell_type": "code",
   "execution_count": 18,
   "id": "0e92c2ce",
   "metadata": {},
   "outputs": [
    {
     "data": {
      "text/plain": [
       "[5, 9, 5, 1, 3, 1, 3, 3, 8, 9, 9, 8]"
      ]
     },
     "execution_count": 18,
     "metadata": {},
     "output_type": "execute_result"
    }
   ],
   "source": [
    "y_value"
   ]
  },
  {
   "cell_type": "code",
   "execution_count": 20,
   "id": "3148addb",
   "metadata": {},
   "outputs": [
    {
     "name": "stdout",
     "output_type": "stream",
     "text": [
      "(2, 5)\n",
      "(3, 9)\n",
      "(4, 5)\n",
      "(4, 1)\n",
      "(7, 3)\n",
      "(6, 1)\n",
      "(3, 3)\n",
      "(9, 3)\n",
      "(9, 8)\n",
      "(8, 9)\n",
      "(6, 9)\n",
      "(4, 8)\n"
     ]
    }
   ],
   "source": [
    "for i in zip(x_value, y_value):\n",
    "    for j in \n",
    "    print(i)"
   ]
  },
  {
   "cell_type": "code",
   "execution_count": null,
   "id": "7a02ae34",
   "metadata": {},
   "outputs": [],
   "source": []
  }
 ],
 "metadata": {
  "kernelspec": {
   "display_name": "Python 3 (ipykernel)",
   "language": "python",
   "name": "python3"
  },
  "language_info": {
   "codemirror_mode": {
    "name": "ipython",
    "version": 3
   },
   "file_extension": ".py",
   "mimetype": "text/x-python",
   "name": "python",
   "nbconvert_exporter": "python",
   "pygments_lexer": "ipython3",
   "version": "3.9.12"
  }
 },
 "nbformat": 4,
 "nbformat_minor": 5
}
