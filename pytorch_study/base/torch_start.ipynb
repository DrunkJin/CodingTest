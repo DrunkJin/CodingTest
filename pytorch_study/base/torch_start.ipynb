{
 "cells": [
  {
   "cell_type": "code",
   "execution_count": 1,
   "metadata": {},
   "outputs": [
    {
     "name": "stdout",
     "output_type": "stream",
     "text": [
      "True\n",
      "tensor([5, 7, 9])\n"
     ]
    }
   ],
   "source": [
    "import torch\n",
    "\n",
    "print(torch.cuda.is_available())\n",
    "\n",
    "a = torch.tensor([1, 2, 3])\n",
    "b = torch.tensor([4, 5, 6])\n",
    "\n",
    "c = a + b\n",
    "\n",
    "print(c)"
   ]
  },
  {
   "cell_type": "markdown",
   "metadata": {},
   "source": [
    "* ### 파이토치 기본 구성 nn.Module 클래스\n",
    "  ```python\n",
    "  class Net(nn.Module):\n",
    "    def __init__(self):\n",
    "        '''\n",
    "        \n",
    "        # 신경망 구성요소 정의\n",
    "        \n",
    "        '''\n",
    "    def forward(self, input):\n",
    "        '''\n",
    "        \n",
    "        # 신경망 동작 정의\n",
    "        \n",
    "        '''\n",
    "        return output\n",
    "  ```\n",
    "  \n",
    "  <br><br><br>\n",
    "* ### 데이터셋 클래스 뼈대\n",
    "```python\n",
    "class Dataset():\n",
    "    def __init__(self):\n",
    "        '''\n",
    "        필요한 데이터 불러오기\n",
    "        '''\n",
    "    def __len__(self):\n",
    "        '''\n",
    "        데이터 개수 반환\n",
    "        '''\n",
    "        return len(data)\n",
    "    \n",
    "    def __getitem__(self, i):\n",
    "        '''\n",
    "        i번째 입력 데이터와\n",
    "        i번째 정답을 반환\n",
    "        '''\n",
    "        return data[i]. label[i]\n",
    "        \n",
    "```\n",
    "\n",
    "  <br><br><br>\n",
    "* ### 모듈과 데이터셋을 이용한 학습 진행 뼈대\n",
    "\n",
    "```python\n",
    "# 데이터로더로부터 데이터와 정답을 받아옴\n",
    "for data, label in DataLoader():\n",
    "    # 모델의 예측값 계산\n",
    "    prediction = model(data)\n",
    "    \n",
    "    # 손실 함수를 이용해 오차 계산\n",
    "    loss = LossFunction(prediction, label)\n",
    "    \n",
    "    # 오차 역전파\n",
    "    loss.backward()\n",
    "    \n",
    "    # 신경망 가중치 수정\n",
    "    optimizer.step()\n",
    "```"
   ]
  },
  {
   "cell_type": "code",
   "execution_count": null,
   "metadata": {},
   "outputs": [],
   "source": []
  }
 ],
 "metadata": {
  "kernelspec": {
   "display_name": "torch",
   "language": "python",
   "name": "python3"
  },
  "language_info": {
   "codemirror_mode": {
    "name": "ipython",
    "version": 3
   },
   "file_extension": ".py",
   "mimetype": "text/x-python",
   "name": "python",
   "nbconvert_exporter": "python",
   "pygments_lexer": "ipython3",
   "version": "3.10.0"
  },
  "orig_nbformat": 4
 },
 "nbformat": 4,
 "nbformat_minor": 2
}
